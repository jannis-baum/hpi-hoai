{
 "cells": [
  {
   "cell_type": "code",
   "execution_count": 1,
   "id": "7ca81f26-bfba-489f-b2e6-49a892763aee",
   "metadata": {},
   "outputs": [],
   "source": [
    "import matplotlib.pyplot as plt\n",
    "import numpy as np\n",
    "import pandas as pd\n",
    "from pysam import VariantFile\n",
    "from scipy.stats import binomtest"
   ]
  },
  {
   "cell_type": "code",
   "execution_count": 2,
   "id": "27c0c144-1936-4946-82db-02ebcb43f413",
   "metadata": {},
   "outputs": [],
   "source": [
    "vcf_path = 'data/HG00171/processed/spliceai-out.vcf'\n",
    "true_p_acceptor_path = 'data/HG00171/processed/p_acceptor.csv'\n",
    "true_p_donor_path = 'data/HG00171/processed/p_donor.csv'"
   ]
  },
  {
   "cell_type": "code",
   "execution_count": 3,
   "id": "eb42b557-cd9e-4d5e-8ba6-b55da291dd08",
   "metadata": {},
   "outputs": [],
   "source": [
    "# load & prepare predicted data\n",
    "\n",
    "vcf = VariantFile(vcf_path, 'r')\n",
    "# we use vanilla dicts because index-lookups are less\n",
    "# computationally complex than in pandas dataframes\n",
    "p_acceptor = dict()\n",
    "p_donor = dict()\n",
    "def _set_or_add(d, k, v):\n",
    "    if k in d: d[k] += [v, 1]\n",
    "    else: d[k] = np.array([v, 1])\n",
    "\n",
    "for record in vcf:\n",
    "    items = dict(record.info.items())\n",
    "    if 'SpliceAI' not in items: continue\n",
    "    results = items['SpliceAI']\n",
    "    for result in results:\n",
    "        fields = result.split('|')\n",
    "        pos_ag, pos_al, pos_dg, pos_dl = (record.pos + int(p) for p in fields[6:10])\n",
    "        ag, al, dg, dl = (float(val) for val in [fields[11], fields[13], fields[15], fields[17]])\n",
    "        _set_or_add(p_acceptor, pos_ag, ag)\n",
    "        _set_or_add(p_acceptor, pos_al, al)\n",
    "        _set_or_add(p_donor, pos_dg, dg)\n",
    "        _set_or_add(p_donor, pos_dl, dl)\n",
    "\n",
    "# apply means\n",
    "for k, v in p_acceptor.items(): p_acceptor[k] = v[0] / v[1]\n",
    "for k, v in p_donor.items(): p_donor[k] = v[0] / v[1]\n",
    "# create dataframes\n",
    "p_acceptor = pd.DataFrame(p_acceptor.items(), columns=['5p', 'p']).set_index('5p')\n",
    "p_donor = pd.DataFrame(p_donor.items(), columns=['3p', 'p']).set_index('3p')"
   ]
  },
  {
   "cell_type": "code",
   "execution_count": 4,
   "id": "5378d0e2-7d2c-4f93-8b4c-feeef928871a",
   "metadata": {},
   "outputs": [],
   "source": [
    "# load experimental \"true\" data\n",
    "\n",
    "def _get_experimental_data(path):\n",
    "    df = pd.read_csv(path, index_col=0)\n",
    "    df['k'] = (df['p'] * df['n']).astype(int)\n",
    "    return df.to_dict('index')\n",
    "\n",
    "true_p_acceptor = _get_experimental_data(true_p_acceptor_path)\n",
    "true_p_donor = _get_experimental_data(true_p_donor_path)"
   ]
  },
  {
   "cell_type": "code",
   "execution_count": 5,
   "id": "037b5401-8d63-4773-ae99-052150925014",
   "metadata": {},
   "outputs": [],
   "source": [
    "def analyze_results(predictions, experimental_data, cutoff = 0.1):\n",
    "    def _pvalue(row):\n",
    "        site = row.name\n",
    "        pred = row.iloc[0]\n",
    "        if site not in experimental_data:\n",
    "            return np.NaN\n",
    "        experiment = experimental_data[site]\n",
    "        return binomtest(experiment['k'], experiment['n'], p=pred).pvalue\n",
    "    # binomial test p-values\n",
    "    pvalues = predictions.apply(_pvalue, axis=1)\n",
    "    # number of observed sites that aren't predicted at all\n",
    "    observed_unpredicted = len(set(experimental_data.keys()) - set(predictions.index))\n",
    "    # number of predicted sites that weren't observed\n",
    "    predicted_unobserved = sum((np.isnan(pvalues)) & (predictions['p'] > cutoff))\n",
    "    return (\n",
    "        pvalues,\n",
    "        np.array([observed_unpredicted, len(experimental_data)]),\n",
    "        np.array([predicted_unobserved, sum(predictions['p'] > cutoff)])\n",
    "    )"
   ]
  },
  {
   "cell_type": "code",
   "execution_count": 6,
   "id": "9312057c-5408-403a-98df-812703e65968",
   "metadata": {},
   "outputs": [
    {
     "name": "stdout",
     "output_type": "stream",
     "text": [
      "Number of unpredicted observed splice sites: 12158 (42% of observed sites)\n",
      "Number of predicted unobserved splice sites: 6059 (27% of predicted sites)\n",
      "Number of pvalues < 0.001: 10249 (62% of predicted sites)\n",
      "Number of pvalues on plot: 6378 (38% of predicted sites)\n"
     ]
    },
    {
     "data": {
      "image/png": "[encoded data removed]",
      "text/plain": [
       "<Figure size 1200x1000 with 1 Axes>"
      ]
     },
     "metadata": {},
     "output_type": "display_data"
    }
   ],
   "source": [
    "pvalues = list()\n",
    "observed_unpredicted = np.array([0, 0])\n",
    "predicted_unobserved = np.array([0, 0])\n",
    "\n",
    "for site, predictions, experiments in [('Acceptor', p_acceptor, true_p_acceptor), ('Donor', p_donor, true_p_donor)]:\n",
    "    p, ou, pu = analyze_results(predictions, experiments)\n",
    "    pvalues += list(p)\n",
    "    observed_unpredicted += ou\n",
    "    predicted_unobserved += pu\n",
    "\n",
    "print(f'Number of unpredicted observed splice sites: {observed_unpredicted[0]} ({float(observed_unpredicted[0]) / observed_unpredicted[1] * 100 :.0f}% of observed sites)')\n",
    "print(f'Number of predicted unobserved splice sites: {predicted_unobserved[0]} ({float(predicted_unobserved[0]) / predicted_unobserved[1] * 100 :.0f}% of predicted sites)')\n",
    "pvalues = pd.Series(pvalues)\n",
    "cutoff = 0.001\n",
    "very_bad = sum(pvalues < cutoff)\n",
    "not_very_bad = sum(pvalues >= cutoff)\n",
    "total = sum(~np.isnan(pvalues))\n",
    "print(f'Number of pvalues < {cutoff}: {very_bad} ({float(very_bad) / total * 100 :.0f}% of predicted sites)')\n",
    "print(f'Number of pvalues on plot: {not_very_bad} ({float(not_very_bad) / total * 100 :.0f}% of predicted sites)')\n",
    "pvalues[pvalues > cutoff].hist(bins=20, figsize=(12,10))\n",
    "plt.xlabel ('p-value')\n",
    "plt.ylabel ('Number of sites')\n",
    "plt.savefig('figures/plot.png', bbox_inches='tight')\n",
    "plt.show()"
   ]
  },
  {
   "cell_type": "code",
   "execution_count": null,
   "id": "660563f8-6336-40be-aef8-fe7e24ba61d9",
   "metadata": {},
   "outputs": [],
   "source": []
  }
 ],
 "metadata": {
  "kernelspec": {
   "display_name": "Python 3 (ipykernel)",
   "language": "python",
   "name": "python3"
  },
  "language_info": {
   "codemirror_mode": {
    "name": "ipython",
    "version": 3
   },
   "file_extension": ".py",
   "mimetype": "text/x-python",
   "name": "python",
   "nbconvert_exporter": "python",
   "pygments_lexer": "ipython3",
   "version": "3.10.14"
  }
 },
 "nbformat": 4,
 "nbformat_minor": 5
}
